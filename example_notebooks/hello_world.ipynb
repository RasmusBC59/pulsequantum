{
 "cells": [
  {
   "cell_type": "markdown",
   "metadata": {},
   "source": [
    "# Hello, world!\n",
    "\n",
    "This notebook shows you how get a friendly greeting from pulsequantum."
   ]
  },
  {
   "cell_type": "code",
   "execution_count": 1,
   "metadata": {
    "execution": {
     "iopub.execute_input": "2020-10-06T16:16:25.595345Z",
     "iopub.status.busy": "2020-10-06T16:16:25.594456Z",
     "iopub.status.idle": "2020-10-06T16:16:25.814584Z",
     "shell.execute_reply": "2020-10-06T16:16:25.815130Z"
    }
   },
   "outputs": [],
   "source": [
    "from pulsequantum.hello_world import hello_world, greeter"
   ]
  },
  {
   "cell_type": "code",
   "execution_count": 2,
   "metadata": {
    "execution": {
     "iopub.execute_input": "2020-10-06T16:16:25.821012Z",
     "iopub.status.busy": "2020-10-06T16:16:25.820286Z",
     "iopub.status.idle": "2020-10-06T16:16:25.824800Z",
     "shell.execute_reply": "2020-10-06T16:16:25.824275Z"
    }
   },
   "outputs": [
    {
     "name": "stdout",
     "output_type": "stream",
     "text": [
      "Hello, you!\n",
      "and\n",
      "Hello, world! from pulsequantum\n"
     ]
    }
   ],
   "source": [
    "name = \"you\"\n",
    "print(greeter(name))\n",
    "print(\"and\")\n",
    "hello_world()"
   ]
  }
 ],
 "metadata": {
  "kernelspec": {
   "display_name": "Python 3",
   "language": "python",
   "name": "python3"
  },
  "language_info": {
   "codemirror_mode": {
    "name": "ipython",
    "version": 3
   },
   "file_extension": ".py",
   "mimetype": "text/x-python",
   "name": "python",
   "nbconvert_exporter": "python",
   "pygments_lexer": "ipython3",
   "version": "3.7.9"
  }
 },
 "nbformat": 4,
 "nbformat_minor": 4
}
